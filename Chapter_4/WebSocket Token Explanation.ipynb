{
 "cells": [
  {
   "cell_type": "code",
   "execution_count": 1,
   "id": "51e19fca",
   "metadata": {},
   "outputs": [
    {
     "name": "stdout",
     "output_type": "stream",
     "text": [
      "4SZvSD8WnNGfT0dMDhQHaO3JiHBS14zmGpa8SXZ10V0\n"
     ]
    }
   ],
   "source": [
    "import time, base64, hashlib, hmac, urllib.request, json\n",
    "from websocket import create_connection\n",
    "\n",
    "api_key = 'H3gKodJSmBb0OWIa4EiWMQHdSe4UIpcVxMeews2kMVchQ9FFGwe49TyI'\n",
    "secret_key = 'yFBRzeCEkTjNrD0gOVjIJ1yVvr9wZXKC3UKHQ32+S0+Rbz4T+PEgWQWG8I05v39f8AePz3x0cdgOmcfq1YP3nQ=='\n",
    "\n",
    "api_nonce = bytes(str(int(time.time()*1000)), \"utf-8\")\n",
    "api_request = urllib.request.Request(\"https://api.kraken.com/0/private/GetWebSocketsToken\", b\"nonce=%s\" % api_nonce)\n",
    "api_request.add_header(\"API-Key\", api_key)\n",
    "api_request.add_header(\"API-Sign\", base64.b64encode(hmac.new(base64.b64decode(secret_key), b\"/0/private/GetWebSocketsToken\" + hashlib.sha256(api_nonce + b\"nonce=%s\" % api_nonce).digest(), hashlib.sha512).digest()))\n",
    "\n",
    "token = json.loads(urllib.request.urlopen(api_request).read())['result']['token']\n",
    "print(token)"
   ]
  },
  {
   "cell_type": "code",
   "execution_count": 3,
   "id": "8f0cc35c",
   "metadata": {},
   "outputs": [
    {
     "data": {
      "text/plain": [
       "b'1622573088634'"
      ]
     },
     "execution_count": 3,
     "metadata": {},
     "output_type": "execute_result"
    }
   ],
   "source": [
    "api_nonce = bytes(str(int(time.time()*1000)), \"utf-8\")\n",
    "api_nonce"
   ]
  },
  {
   "cell_type": "code",
   "execution_count": 4,
   "id": "0a0180e3",
   "metadata": {},
   "outputs": [
    {
     "data": {
      "text/plain": [
       "b'LfC4mYC55iFdIE/OB2mvWP4YzseNxcR90NxkQAPgBVY8eXv5lY5PhAeSqSMC9XawRMM1eDNkv6vkjsnls3c1HA=='"
      ]
     },
     "execution_count": 4,
     "metadata": {},
     "output_type": "execute_result"
    }
   ],
   "source": [
    "key = base64.b64encode(hmac.new(base64.b64decode(secret_key), b\"/0/private/GetWebSocketsToken\" + hashlib.sha256(api_nonce + b\"nonce=%s\" % api_nonce).digest(), hashlib.sha512).digest())\n",
    "key\n"
   ]
  },
  {
   "cell_type": "code",
   "execution_count": null,
   "id": "e4785da9",
   "metadata": {},
   "outputs": [],
   "source": [
    "yFBRzeCEkTjNrD0gOVjIJ1yVvr9wZXKC3UKHQ32+S0+Rbz4T+PEgWQWG8I05v39f8AePz3x0cdgOmcfq1YP3nQ=="
   ]
  }
 ],
 "metadata": {
  "kernelspec": {
   "display_name": "Python 3",
   "language": "python",
   "name": "python3"
  },
  "language_info": {
   "codemirror_mode": {
    "name": "ipython",
    "version": 3
   },
   "file_extension": ".py",
   "mimetype": "text/x-python",
   "name": "python",
   "nbconvert_exporter": "python",
   "pygments_lexer": "ipython3",
   "version": "3.8.3"
  }
 },
 "nbformat": 4,
 "nbformat_minor": 5
}
