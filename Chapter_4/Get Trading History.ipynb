{
 "cells": [
  {
   "cell_type": "code",
   "execution_count": 1,
   "id": "5571de9c",
   "metadata": {},
   "outputs": [],
   "source": [
    "import krakenex\n",
    "from pykrakenapi import KrakenAPI\n",
    "\n",
    "api = krakenex.API()\n",
    "kraken = KrakenAPI(api)\n",
    "\n",
    "api.load_key('KrakenPass.txt')"
   ]
  },
  {
   "cell_type": "code",
   "execution_count": 2,
   "id": "a88840c2",
   "metadata": {},
   "outputs": [
    {
     "data": {
      "text/plain": [
       "(                                              txid            ordertxid  \\\n",
       " dtime                                                                     \n",
       " 2021-06-09 10:36:01.341099977  TUWVD3-U7EH5-GGMLPC  O3FRBH-PTBZ5-HTGBA6   \n",
       " 2021-06-09 10:34:41.161099911  TBP3NV-VFDSB-MUYVUD  OUVLEW-WXMO2-OOAUYM   \n",
       " 2021-06-03 13:31:36.026700020  TK5PQC-PLU63-MGSVJC  O656LT-42YJC-57K7EL   \n",
       " 2021-06-03 13:29:26.549700022  T67VJC-A6VKG-HMPCJM  OG75HG-RJHUW-BWFMWB   \n",
       " \n",
       "                                            postxid      pair          time  \\\n",
       " dtime                                                                        \n",
       " 2021-06-09 10:36:01.341099977  TKH2SE-M7IF5-CFI7LT  USDTZUSD  1.623235e+09   \n",
       " 2021-06-09 10:34:41.161099911  TKH2SE-M7IF5-CFI7LT    ADAUSD  1.623235e+09   \n",
       " 2021-06-03 13:31:36.026700020  TKH2SE-M7IF5-CFI7LT    ADAUSD  1.622727e+09   \n",
       " 2021-06-03 13:29:26.549700022  TKH2SE-M7IF5-CFI7LT  USDTZUSD  1.622727e+09   \n",
       " \n",
       "                                type ordertype     price       cost       fee  \\\n",
       " dtime                                                                          \n",
       " 2021-06-09 10:36:01.341099977   buy    market  1.000800  12.347600  0.024695   \n",
       " 2021-06-09 10:34:41.161099911  sell    market  1.553874  12.404471  0.032251   \n",
       " 2021-06-03 13:31:36.026700020   buy    market  1.840522  58.746900  0.152742   \n",
       " 2021-06-03 13:29:26.549700022  sell    market  1.000300  59.017700  0.118035   \n",
       " \n",
       "                                      vol  margin misc  \n",
       " dtime                                                  \n",
       " 2021-06-09 10:36:01.341099977  12.337730     0.0       \n",
       " 2021-06-09 10:34:41.161099911   7.982932     0.0       \n",
       " 2021-06-03 13:31:36.026700020  31.918608     0.0       \n",
       " 2021-06-03 13:29:26.549700022  59.000000     0.0       ,\n",
       " 4)"
      ]
     },
     "execution_count": 2,
     "metadata": {},
     "output_type": "execute_result"
    }
   ],
   "source": [
    "kraken.get_trades_history()"
   ]
  }
 ],
 "metadata": {
  "kernelspec": {
   "display_name": "Python 3",
   "language": "python",
   "name": "python3"
  },
  "language_info": {
   "codemirror_mode": {
    "name": "ipython",
    "version": 3
   },
   "file_extension": ".py",
   "mimetype": "text/x-python",
   "name": "python",
   "nbconvert_exporter": "python",
   "pygments_lexer": "ipython3",
   "version": "3.8.3"
  }
 },
 "nbformat": 4,
 "nbformat_minor": 5
}
