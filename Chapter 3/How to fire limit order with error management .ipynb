{
 "cells": [
  {
   "cell_type": "code",
   "execution_count": 1,
   "id": "bfa3ac8f",
   "metadata": {},
   "outputs": [],
   "source": [
    "import krakenex\n",
    "from pykrakenapi import KrakenAPI\n",
    "api = krakenex.API()\n",
    "kraken = KrakenAPI(api)"
   ]
  },
  {
   "cell_type": "code",
   "execution_count": 2,
   "id": "fe068e0c",
   "metadata": {},
   "outputs": [],
   "source": [
    "api.load_key('KrakenPass.txt')"
   ]
  },
  {
   "cell_type": "code",
   "execution_count": 3,
   "id": "f9d2fbc6",
   "metadata": {},
   "outputs": [
    {
     "name": "stdout",
     "output_type": "stream",
     "text": [
      "{'descr': {'order': 'sell 50.00000000 XDGUSD @ limit 0.9000000'}, 'txid': ['OJK3LL-FDLS4-AVKLMK']}\n"
     ]
    }
   ],
   "source": [
    "try:\n",
    "    response = kraken.add_standard_order(pair='DOGEUSD', type='sell', ordertype='limit', \n",
    "                                         volume='50', price='0.90', validate=False)\n",
    "    print(response)\n",
    "except exception as e:\n",
    "    print('Error')"
   ]
  }
 ],
 "metadata": {
  "kernelspec": {
   "display_name": "Python 3",
   "language": "python",
   "name": "python3"
  },
  "language_info": {
   "codemirror_mode": {
    "name": "ipython",
    "version": 3
   },
   "file_extension": ".py",
   "mimetype": "text/x-python",
   "name": "python",
   "nbconvert_exporter": "python",
   "pygments_lexer": "ipython3",
   "version": "3.8.3"
  }
 },
 "nbformat": 4,
 "nbformat_minor": 5
}
