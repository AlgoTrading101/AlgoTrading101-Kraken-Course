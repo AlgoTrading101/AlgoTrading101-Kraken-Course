{
 "cells": [
  {
   "cell_type": "code",
   "execution_count": 1,
   "id": "bfa3ac8f",
   "metadata": {},
   "outputs": [],
   "source": [
    "from time import sleep\n",
    "import krakenex\n",
    "from pykrakenapi import KrakenAPI\n",
    "api = krakenex.API()\n",
    "kraken = KrakenAPI(api)\n",
    "\n",
    "api.load_key('KrakenPass.txt')"
   ]
  },
  {
   "cell_type": "code",
   "execution_count": 2,
   "id": "a949ec96",
   "metadata": {},
   "outputs": [
    {
     "name": "stdout",
     "output_type": "stream",
     "text": [
      "public call frequency exceeded (seconds=0.293037) \n",
      " sleeping for 5 seconds\n",
      "{'descr': {'order': 'buy 0.00700000 ETHUSD @ limit 3413.48'}, 'txid': ['OH2UTZ-OWDHD-N3G2SD']}\n",
      "Order completed sucessfully\n"
     ]
    }
   ],
   "source": [
    "while True:\n",
    "    \n",
    "    try:\n",
    "        BTC = kraken.get_ticker_information('BTCUSD')\n",
    "    except exception as e:\n",
    "        print('Unable to obtain BTC data')\n",
    "    \n",
    "    if float(BTC['b'][0][0]) >= 57300.00:\n",
    "        try:\n",
    "            ETH = float((kraken.get_ticker_information('ETHUSD'))['a'][0][0]) + 2\n",
    "            \n",
    "            response = kraken.add_standard_order(pair='ETHUSD', type='buy', ordertype='limit', \n",
    "                                                 volume='0.007', price=ETH, validate=False)\n",
    "            print(response)\n",
    "        except exception as e:\n",
    "            print('Error placing order')\n",
    "    \n",
    "        sleep(3)\n",
    "    \n",
    "        check_order = kraken.query_orders_info(response['txid'][0])\n",
    "    \n",
    "        if check_order['status'][0] == 'open' or 'closed':\n",
    "            print('Order completed sucessfully')\n",
    "            break\n",
    "        else:\n",
    "            print('Order rejected')\n",
    "            break\n",
    "    else:\n",
    "        print('Requirement not reached')\n",
    "    \n",
    "    sleep(30)"
   ]
  }
 ],
 "metadata": {
  "kernelspec": {
   "display_name": "Python 3",
   "language": "python",
   "name": "python3"
  },
  "language_info": {
   "codemirror_mode": {
    "name": "ipython",
    "version": 3
   },
   "file_extension": ".py",
   "mimetype": "text/x-python",
   "name": "python",
   "nbconvert_exporter": "python",
   "pygments_lexer": "ipython3",
   "version": "3.8.3"
  }
 },
 "nbformat": 4,
 "nbformat_minor": 5
}
