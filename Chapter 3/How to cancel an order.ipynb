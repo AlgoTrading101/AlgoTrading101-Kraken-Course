{
 "cells": [
  {
   "cell_type": "code",
   "execution_count": 1,
   "id": "bfa3ac8f",
   "metadata": {},
   "outputs": [],
   "source": [
    "import krakenex\n",
    "from pykrakenapi import KrakenAPI\n",
    "api = krakenex.API()\n",
    "kraken = KrakenAPI(api)"
   ]
  },
  {
   "cell_type": "code",
   "execution_count": 2,
   "id": "fe068e0c",
   "metadata": {},
   "outputs": [],
   "source": [
    "api.load_key('KrakenPass.txt')"
   ]
  },
  {
   "cell_type": "code",
   "execution_count": 3,
   "id": "24e2c04f",
   "metadata": {},
   "outputs": [
    {
     "name": "stdout",
     "output_type": "stream",
     "text": [
      "{'descr': {'order': 'sell 50.00000000 XDGUSD @ limit 0.9000000'}, 'txid': ['OJK3LL-FDLS4-AVKLMK']}\n"
     ]
    }
   ],
   "source": [
    "try:\n",
    "    response = kraken.add_standard_order(pair='DOGEUSD', type='sell', ordertype='limit', \n",
    "                                         volume='50', price='0.90', validate=False)\n",
    "    print(response)\n",
    "except exception as e:\n",
    "    print('Error')"
   ]
  },
  {
   "cell_type": "code",
   "execution_count": 5,
   "id": "286ad46a",
   "metadata": {},
   "outputs": [
    {
     "name": "stdout",
     "output_type": "stream",
     "text": [
      "{'count': 1}\n"
     ]
    }
   ],
   "source": [
    "cancel = kraken.cancel_open_order(txid='OJK3LL-FDLS4-AVKLMK')\n",
    "print(cancel)"
   ]
  }
 ],
 "metadata": {
  "kernelspec": {
   "display_name": "Python 3",
   "language": "python",
   "name": "python3"
  },
  "language_info": {
   "codemirror_mode": {
    "name": "ipython",
    "version": 3
   },
   "file_extension": ".py",
   "mimetype": "text/x-python",
   "name": "python",
   "nbconvert_exporter": "python",
   "pygments_lexer": "ipython3",
   "version": "3.8.3"
  }
 },
 "nbformat": 4,
 "nbformat_minor": 5
}
