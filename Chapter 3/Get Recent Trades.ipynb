{
 "cells": [
  {
   "cell_type": "code",
   "execution_count": 1,
   "id": "f8452fcc",
   "metadata": {},
   "outputs": [],
   "source": [
    "import krakenex\n",
    "from pykrakenapi import KrakenAPI\n",
    "\n",
    "api = krakenex.API()\n",
    "kraken = KrakenAPI(api)"
   ]
  },
  {
   "cell_type": "code",
   "execution_count": 3,
   "id": "bf0d5112",
   "metadata": {},
   "outputs": [
    {
     "data": {
      "text/plain": [
       "(                                 price        volume          time buy_sell  \\\n",
       " dtime                                                                         \n",
       " 2021-08-05 16:15:19.019500032  2760.71  6.200000e-01  1.628180e+09      buy   \n",
       " 2021-08-05 16:15:19.018300160  2760.58  3.000000e+00  1.628180e+09      buy   \n",
       " 2021-08-05 16:14:32.420100096  2763.03  6.700000e-07  1.628180e+09     sell   \n",
       " 2021-08-05 16:14:32.419100160  2763.03  2.550300e-04  1.628180e+09     sell   \n",
       " 2021-08-05 16:14:32.418200064  2763.03  9.834369e-02  1.628180e+09     sell   \n",
       " ...                                ...           ...           ...      ...   \n",
       " 2021-08-05 14:19:39.208900096  2808.86  5.345200e+00  1.628173e+09      buy   \n",
       " 2021-08-05 14:19:39.207799808  2807.63  7.454284e-01  1.628173e+09      buy   \n",
       " 2021-08-05 14:19:39.206400000  2806.93  8.600000e-01  1.628173e+09      buy   \n",
       " 2021-08-05 14:19:39.204999936  2806.48  3.727121e-01  1.628173e+09      buy   \n",
       " 2021-08-05 14:19:39.203800064  2806.27  4.295900e-03  1.628173e+09      buy   \n",
       " \n",
       "                               market_limit misc  \n",
       " dtime                                            \n",
       " 2021-08-05 16:15:19.019500032        limit       \n",
       " 2021-08-05 16:15:19.018300160        limit       \n",
       " 2021-08-05 16:14:32.420100096       market       \n",
       " 2021-08-05 16:14:32.419100160       market       \n",
       " 2021-08-05 16:14:32.418200064       market       \n",
       " ...                                    ...  ...  \n",
       " 2021-08-05 14:19:39.208900096       market       \n",
       " 2021-08-05 14:19:39.207799808       market       \n",
       " 2021-08-05 14:19:39.206400000       market       \n",
       " 2021-08-05 14:19:39.204999936       market       \n",
       " 2021-08-05 14:19:39.203800064       market       \n",
       " \n",
       " [1000 rows x 6 columns],\n",
       " 1628180119019471837)"
      ]
     },
     "execution_count": 3,
     "metadata": {},
     "output_type": "execute_result"
    }
   ],
   "source": [
    "trades= kraken.get_recent_trades('ETHUSDT')\n",
    "trades"
   ]
  }
 ],
 "metadata": {
  "kernelspec": {
   "display_name": "Python 3",
   "language": "python",
   "name": "python3"
  },
  "language_info": {
   "codemirror_mode": {
    "name": "ipython",
    "version": 3
   },
   "file_extension": ".py",
   "mimetype": "text/x-python",
   "name": "python",
   "nbconvert_exporter": "python",
   "pygments_lexer": "ipython3",
   "version": "3.8.3"
  }
 },
 "nbformat": 4,
 "nbformat_minor": 5
}
