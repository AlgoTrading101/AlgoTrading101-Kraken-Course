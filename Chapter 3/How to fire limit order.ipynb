{
 "cells": [
  {
   "cell_type": "code",
   "execution_count": null,
   "id": "bfa3ac8f",
   "metadata": {},
   "outputs": [],
   "source": [
    "import krakenex\n",
    "from pykrakenapi import KrakenAPI\n",
    "api = krakenex.API()\n",
    "kraken = KrakenAPI(api)"
   ]
  },
  {
   "cell_type": "code",
   "execution_count": null,
   "id": "fe068e0c",
   "metadata": {},
   "outputs": [],
   "source": [
    "api.load_key('KrakenPass.txt')"
   ]
  },
  {
   "cell_type": "code",
   "execution_count": null,
   "id": "f9d2fbc6",
   "metadata": {},
   "outputs": [],
   "source": [
    "response = kraken.add_standard_order(pair='DOGEUSD', type='buy', ordertype='limit', \n",
    "                                         volume='50', price='0.90', validate=False)\n",
    "print(response)"
   ]
  }
 ],
 "metadata": {
  "kernelspec": {
   "display_name": "Python 3",
   "language": "python",
   "name": "python3"
  },
  "language_info": {
   "codemirror_mode": {
    "name": "ipython",
    "version": 3
   },
   "file_extension": ".py",
   "mimetype": "text/x-python",
   "name": "python",
   "nbconvert_exporter": "python",
   "pygments_lexer": "ipython3",
   "version": "3.8.3"
  }
 },
 "nbformat": 4,
 "nbformat_minor": 5
}
